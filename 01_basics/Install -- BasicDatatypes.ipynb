{
 "cells": [
  {
   "cell_type": "markdown",
   "metadata": {},
   "source": [
    "# Welcome to the Dark Art of Coding:\n",
    "## Introduction to Python\n",
    "Install -- Basic Datatypes"
   ]
  },
  {
   "cell_type": "markdown",
   "metadata": {
    "collapsed": true
   },
   "source": [
    "# Objectives\n",
    "---"
   ]
  },
  {
   "cell_type": "markdown",
   "metadata": {},
   "source": [
    "In this class we're going over a few of the necessary things to learn python for micro:bit\n",
    "\n",
    "* Overview\n",
    "* Installation\n",
    "* Strings\n",
    "    * What are they?\n",
    "    * A few things we can do with them\n",
    "* Integers/Floats\n",
    "    * How they are different from strings\n",
    "    * A few things we can do with them\n",
    "* Variables\n",
    "    * How to make them\n",
    "    * How to read them\n",
    "    * How to update them"
   ]
  },
  {
   "cell_type": "markdown",
   "metadata": {},
   "source": [
    "# Overview\n",
    "---\n",
    "\n",
    "Today we're going to be talking about a few things mostly related to Python. I'll mention a few Micro:Bit specific things but this lesson and the next two are going to be groundwork lessons. Things that we need to talk about so we can effectively use our Micro:Bits. If we don't understand these things we can't truly use our Micro:Bits to their full potential"
   ]
  },
  {
   "cell_type": "markdown",
   "metadata": {
    "collapsed": true
   },
   "source": [
    "# Installation\n",
    "---"
   ]
  },
  {
   "cell_type": "markdown",
   "metadata": {},
   "source": [
    "We need a single piece of software to program our Micro:Bits. It's called 'mu'\n",
    "\n",
    "For windows machines you need an extra bit to make mu fully functional but it's well worth it. Scroll down until you find your OS and follow the steps\n",
    "\n",
    "If you have any problems feel free to ask me for help"
   ]
  },
  {
   "cell_type": "markdown",
   "metadata": {},
   "source": [
    "## Windows:\n",
    "\n",
    "* Go to this link:\n",
    "    * http://ardublockly-builds.s3-website-us-west-2.amazonaws.com/?prefix=microbit/windows/\n",
    "* Download the file from the link at the BOTTOM of the list\n",
    "* Save the file in a place that you can get to easily from now on\n",
    "\n",
    "You now have mu. In order to use it you just run the file you've downloaded. Simple as that\n",
    "\n",
    "## Windows 2:\n",
    "\n",
    "Once you have mu downloaded  you're going to need that extra bit to make it work completely\n",
    "\n",
    "* Download the file from this link\n",
    "    * https://developer.mbed.org/media/downloads/drivers/mbedWinSerial_16466.exe\n",
    "* Once downloaded make sure to plug in your Micro:Bit and run the file.\n",
    "\n",
    "It shouldn't take too long and once it's finished you should be good to go"
   ]
  },
  {
   "cell_type": "markdown",
   "metadata": {},
   "source": [
    "## Mac\n",
    "\n",
    "* Go to this link:\n",
    "* http://ardublockly-builds.s3-website-us-west-2.amazonaws.com/?prefix=microbit/osx/\n",
    "* Download the file from the link at the BOTTOM of the list\n",
    "* Save the file in a place that you can get to easily from now on\n",
    "\n",
    "You now have mu. In order to use it just run the file you've downloaded. Simple as that"
   ]
  },
  {
   "cell_type": "markdown",
   "metadata": {},
   "source": [
    "# How to use mu\n",
    "---"
   ]
  },
  {
   "cell_type": "markdown",
   "metadata": {},
   "source": [
    "When you first open mu it should look like this:\n",
    "\n",
    "<img src=\"mu_empty.png\">"
   ]
  },
  {
   "cell_type": "markdown",
   "metadata": {},
   "source": [
    "At the top there are 12 buttons. We're going to talk about 5 of them\n",
    "\n",
    "### New\n",
    "\n",
    "This button opens a new file\n",
    "\n",
    "### Load\n",
    "\n",
    "This button lets you open a file that you've already made and saved\n",
    "\n",
    "### Save\n",
    "\n",
    "This button saves your file and if it doesn't have a name yet let's you name your file. You should be saving often so you don't lose your progress\n",
    "\n",
    "### Flash\n",
    "\n",
    "This button will take whatever code you have on your screen and put it onto your Micro:Bit so that it will run when you turn on your Micro:Bit\n",
    "\n",
    "### Repl\n",
    "\n",
    "One of the most helpful buttons on the list this button opens up a window on the bottom that has a repl in it. Repl stands for:\n",
    "\n",
    "R - read<br>\n",
    "E - evaluate<br>\n",
    "P - print<br>\n",
    "L - loop\n",
    "\n",
    "What this means is you will type in one command or two onto a line on the repl, and the connected Micro:Bit will read in your command, find out if it evaluates to anything, and if it DOES then it will show you what it was. Once finished it goes back and does the process all over again\n",
    "\n",
    "This is a very helpful mode that lets you test things out and try a command or two before putting it in your file"
   ]
  },
  {
   "cell_type": "markdown",
   "metadata": {},
   "source": [
    "# Let's test it\n",
    "---"
   ]
  },
  {
   "cell_type": "markdown",
   "metadata": {},
   "source": [
    "Right off the bat let's make sure it's working. Follow these steps to make sure your mu is working correctly\n",
    "\n",
    "* Click on the repl button\n",
    "* Type in the following and press enter (this lets us use some of the Micro:Bit functionality)\n",
    "    * `from microbit import *`\n",
    "    \n",
    "    \n",
    "* Then do the same thing to the next line except replace YOUR NAME with your name. Once you hit enter watch your Micro:Bit and see what happens\n",
    "    * `display.scroll('YOUR NAME')`\n",
    "    \n",
    "    \n",
    "* For example:\n",
    "    * `display.scroll('Aidan')`"
   ]
  },
  {
   "cell_type": "markdown",
   "metadata": {},
   "source": [
    "# Strings\n",
    "---"
   ]
  },
  {
   "cell_type": "markdown",
   "metadata": {},
   "source": [
    "## What are they?\n",
    "\n",
    "Strings are a simple way of storing word data. Here are a DOs and DON'Ts:\n",
    "\n",
    "### DOs\n",
    "* Surround by EITHER a single quote:\n",
    "    * `'Hello world!'`\n",
    "* OR a double quote:\n",
    "    * `\"Hi world!\"`\n",
    "\n",
    "### DON'Ts\n",
    "* Mix quote types:\n",
    "    * `'Hello mars!\"`\n",
    "* Use a single or double quote in the SAME quoted string:\n",
    "    * `'This can't be!'`\n",
    "    * `\"So he said \"hello\" to me can you believe that?\"`\n",
    "\n",
    "Other than those few rules you can do just about anything you want to do:\n",
    "\n",
    "* `\"I CAN DO UPPERCASE WORDS\"`\n",
    "* `'or little case words'`\n",
    "* `'I c4n pu7 numb3r5 1n70 my 57r1ng5'`\n",
    "* `'3.14'`\n",
    "\n",
    "Please note that the quotes surrounding a string are NOT part of the string itself"
   ]
  },
  {
   "cell_type": "markdown",
   "metadata": {},
   "source": [
    "## Some of the things we can do with them\n",
    "\n",
    "We can do lots of things with strings like:\n",
    "\n",
    "* Add them together:\n",
    "    * `'Hello' + 'World!'`\n",
    "    * `'HelloWorld!'`\n",
    "* Slide them across the Micro:Bit\n",
    "    * `display.scroll('my string')`"
   ]
  },
  {
   "cell_type": "markdown",
   "metadata": {},
   "source": [
    "## Indexing\n",
    "\n",
    "Say we have a lot of data in our string and we want a portion of it. We know where it is but we only need a small section. We'd use indexing to get it out. We can get a single letter:\n",
    "\n",
    "`'hello'[1]` would give us `'e'`\n",
    "\n",
    "You'll notice that when we ask for the 1 item it gives us what appears to be the second item. This is because Python indexes starting at zero. A strings indexes look like this:\n",
    "\n",
    "`h e l l o`<br>\n",
    "`0 1 2 3 4`\n",
    "\n",
    "If we want to get an 'h' from our string we'd have to do this:\n",
    "\n",
    "`'hello'[0]`\n",
    "\n",
    "Now using indexing you can get not only a single letter but you can get entire substrings from them:\n",
    "\n",
    "`'lets just grab a single word'[17:23]`\n",
    "\n",
    "This will grab all the characters from index 17 up to BUT NOT INCLUDING 23"
   ]
  },
  {
   "cell_type": "markdown",
   "metadata": {},
   "source": [
    "# Experience Points!\n",
    "---"
   ]
  },
  {
   "cell_type": "markdown",
   "metadata": {},
   "source": [
    "## Make some strings!\n",
    "\n",
    "Let's open up our repl and make some strings<br>\n",
    "Let's make some strings and have them scroll across your Micro:Bit! Try using your name or the name of your favorite pet. What's your favorite color?\n",
    "\n",
    "Remember in order to scroll your scrings you have to first import the microbit module\n",
    "\n",
    "`from microbit import *`\n",
    "\n",
    "This lets us use the different parts and pieces of our Micro:Bit. From here we can use this command to scroll the string across teh display\n",
    "\n",
    "`display.scroll('YOUR STRING HERE!')`\n",
    "\n",
    "If you do that with enough strings you can even do\n",
    "\n",
    "`display.show('YOUR STRING HERE')`\n",
    "\n",
    "What this one does is briefly show each letter one at a time instead of scrolling"
   ]
  },
  {
   "cell_type": "markdown",
   "metadata": {},
   "source": [
    "# Ints/Floats\n",
    "---"
   ]
  },
  {
   "cell_type": "markdown",
   "metadata": {},
   "source": [
    "## Ints\n",
    "\n",
    "In python if you want to do math you need either integers or floating point numbers(ints and floats for short)\n",
    "\n",
    "To make an integer simply type a number... Have you typed a number? Yes? Then you have an integer:\n",
    "\n",
    "* 5\n",
    "* 53\n",
    "* -203\n",
    "* 2935712038714825792851075902358730459824650146994587123508572934875034\n",
    "\n",
    "All of those are integers\n",
    "\n",
    "You can use them for fun math! If you put an integer on either side of some special symbols Python does math on those numbers for example:\n",
    "\n",
    "* Addition: `5 + 5`\n",
    "    * `10`\n",
    "* Subtraction: `7 - 3`\n",
    "    * `4`\n",
    "* Multiplication: `9 \\* 10`\n",
    "    * `90`\n",
    "* Division: `8 / 4`\n",
    "    * `2.0`"
   ]
  },
  {
   "cell_type": "markdown",
   "metadata": {},
   "source": [
    "## Floats\n",
    "\n",
    "This brings us to our second type of number\n",
    "\n",
    "In python if you want to make part of a number you would use a float. Any number with a decimal point is a float. They can still be whole numbers but if it has a decimal then it is going to be a float:\n",
    "\n",
    "* 3.12\n",
    "* -25.9\n",
    "* 2.0\n",
    "* 182749802370156204795602394465097634895091750345.1\n",
    "\n",
    "These are all floats and the can do roughly the same things as integers\n",
    "\n",
    "**NOTE:** If you attempt to do math on an float and you get back something that looks odd. For example:\n",
    "\n",
    "`3.5 + 4.5`<br>\n",
    "`8.00000000001`\n",
    "\n",
    "This is normal. Python is really good at doing math with integers. However floats are a lot more difficult to do math on and sometimes they get errors that are off by very very small amounts. It shouldn't be too much of a problem but it is something to be aware of"
   ]
  },
  {
   "cell_type": "markdown",
   "metadata": {},
   "source": [
    "## Conversion\n",
    "\n",
    "If we have one of those data types that LOOKS like one of our other data types, we can convert it into the other type.\n",
    "\n",
    "* We can convert strings to integers or floats so long as they look like ints or floats(This way we can do actual math on the numbers in our string):\n",
    "    * `int('42')` would give us `42`\n",
    "    * `float('56.82')` would give us `56.82`\n",
    "* We can also go the other direction and convert ints or floats into strings(This way we can get the results of our math into functions like `display.scroll()`)\n",
    "    * `str(42)` would give us `'42'`\n",
    "    * `str(56.82)` would give us `'56.82'`"
   ]
  },
  {
   "cell_type": "markdown",
   "metadata": {},
   "source": [
    "# Variables\n",
    "---\n",
    "\n",
    "Sometimes you get data(Strings, Ints, Floats, or even something we haven't talked about yet) that you want to save and refer to again later. You can use a variable as a kind of tag. When you get a piece of data you can place that tag on top of the data and when you need the data again you can grab the tag and Python automatically gets you your data.\n",
    "\n",
    "## Making a variable\n",
    "\n",
    "In order to make a variable you simply come up with a variable name that makes sense, then make it 'equal' to a value:\n",
    "\n",
    "`level = 10`\n",
    "\n",
    "This makes a variable called level and gives it the data 10. We can assign variables to strings as well:\n",
    "\n",
    "`name = 'Aidan'`\n",
    "\n",
    "## Reading a variable\n",
    "\n",
    "Say we want to take the data we've stored away and actually read it this time. Display the results of some math or show the string of some input of some type. We read our variable data the same way we use a data literal:\n",
    "\n",
    "`display.scroll(name)`<br>\n",
    "`level + 42`\n",
    "\n",
    "If we were to run those lines your Micro:Bit would scroll the string stored under the tag `name` and it would add `level` to `42`. If you want to store the output of some math to a variable you can do that too:\n",
    "\n",
    "`maxLevel = level + 42`\n",
    "\n",
    "Now we can refer to `maxLevel` and it would point to whatever `level` had(which was 10) plus 42 giving us 52\n",
    "\n",
    "## Updating variables\n",
    "\n",
    "Say we have a variable and we want to change it. We USED to have 500 gold on our character but we just opened a chest and got some more. First we create our variable\n",
    "\n",
    "`gold = 500`\n",
    "\n",
    "If we want to update our variable we simply reassign our variable to whatever the output of our math using the same variable\n",
    "\n",
    "`gold = gold + 1`\n",
    "\n",
    "When Python looks at a tag assignment statement it looks at the RIGHT side first. It doesn't update the variable on the left UNTIL the math on the right is finished"
   ]
  },
  {
   "cell_type": "markdown",
   "metadata": {},
   "source": [
    "# Experience Points\n",
    "---"
   ]
  },
  {
   "cell_type": "markdown",
   "metadata": {},
   "source": [
    "## Let's make some variables!\n",
    "\n",
    "I want you guys to make some variables on your Micro:Bit repl with the tags:\n",
    "\n",
    "* name\n",
    "* food\n",
    "* color\n",
    "* animal\n",
    "\n",
    "Fill in those variables with strings of your name, favorite food, favorite color, and favorite animal. Once you have all these strings go ahead and scroll them across your Micro:Bit."
   ]
  },
  {
   "cell_type": "markdown",
   "metadata": {},
   "source": [
    "# Conclusion\n",
    "---\n",
    "\n",
    "We've talked about strings, ints, floats, and variables. These are but a few of the necessary things needed to use Python and your Micro:Bit. Tomorrow we'll talk about lists and dictionaries. For now ask questions, give comments, and address concerns"
   ]
  },
  {
   "cell_type": "code",
   "execution_count": null,
   "metadata": {
    "collapsed": true
   },
   "outputs": [],
   "source": []
  }
 ],
 "metadata": {
  "kernelspec": {
   "display_name": "Python 3",
   "language": "python",
   "name": "python3"
  },
  "language_info": {
   "codemirror_mode": {
    "name": "ipython",
    "version": 3
   },
   "file_extension": ".py",
   "mimetype": "text/x-python",
   "name": "python",
   "nbconvert_exporter": "python",
   "pygments_lexer": "ipython3",
   "version": "3.6.3"
  }
 },
 "nbformat": 4,
 "nbformat_minor": 2
}
