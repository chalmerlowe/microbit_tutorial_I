{
 "cells": [
  {
   "cell_type": "markdown",
   "metadata": {},
   "source": [
    "# Welcome to the Dark Art of Coding:\n",
    "## Introduction to the micro:bit\n",
    "Basics\n",
    "\n",
    "<img src='../images/dark_art_logo.600px.png' height='250' width='300' style='float:right'>"
   ]
  },
  {
   "cell_type": "markdown",
   "metadata": {},
   "source": [
    "# Objectives\n",
    "---"
   ]
  },
  {
   "cell_type": "markdown",
   "metadata": {},
   "source": [
    "In this lesson we're going over a few of the necessary things to learn python for micro:bit\n",
    "\n",
    "* The finer points of the mu editor\n",
    "* Discuss several ways to interface with your micro:bit: mu editor vs web [browser-based editor](http://python.microbit.org/v/1)\n",
    "* How to use the mu editor's repl to interactively control the micro:bit\n",
    "* How to use the mu editor's text editor to create scripts\n",
    "* How to transfer your scripts to the micro:bit and run them\n",
    "\n",
    "This lesson presumes you already have the mu editor installed. IF not, [go back](../00_install_and_prep/install.ipynb) and install the editor."
   ]
  },
  {
   "cell_type": "markdown",
   "metadata": {},
   "source": [
    "# Using mu\n",
    "---"
   ]
  },
  {
   "cell_type": "markdown",
   "metadata": {},
   "source": [
    "When you first open mu it should look like this:\n",
    "\n",
    "<img src=\"mu_empty.png\" width='640'>"
   ]
  },
  {
   "cell_type": "markdown",
   "metadata": {},
   "source": [
    "During the installation lesson, we covered the `New, Load, Save, Flash` and `Repl` buttons.\n",
    "\n",
    "Let's cover the remaining buttons:\n",
    "\n",
    "### Files\n",
    "\n",
    "Displays a simple file system viewer/explorer.\n",
    "\n",
    "NOTE: The you can not display both the Repl and the file system explorer at the same time. IF you get a warning message, click `ok` on the warning dialogue and then click the Repl button to toggle the Repl off, before clicking the Files button again.\n",
    "\n",
    "### Zoom-in\n",
    "\n",
    "This button enlarges the font size.\n",
    "\n",
    "### Zoom-out\n",
    "\n",
    "This button decreases the font.\n",
    "\n",
    "### Theme\n",
    "\n",
    "Clicking this button toggles between two basic themes: light and dark.\n",
    "\n",
    "\n",
    "### Check\n",
    "\n",
    "Checks your code and will do its best to identify any errors (syntax, spelling, etc). If possible, it will check all the lines and highlight lines that have errors with red arrows. This is not a perfect system.\n",
    "\n",
    "* It often can't tell errors from stylistic choices, etc, so it might point to the wrong line OR highlight the wrong snippet of code. \n",
    "* One error might mask another error, until the first error is resolved.\n",
    "\n",
    "NOTE: if your last line of code does NOT have a newline character at the end, this is perceived as an error. See the examples of some errors in this picture:\n",
    "\n",
    "<img src=\"../images/check.png\" width='640'>\n",
    "\n",
    "### Help\n",
    "\n",
    "Provides you with access to the help documentation for the mu editor via your web browser.\n",
    "\n",
    "### Quit\n",
    "\n",
    "Exits the mu editor.\n"
   ]
  },
  {
   "cell_type": "markdown",
   "metadata": {},
   "source": [
    "# Browser version of the editor?\n",
    "---"
   ]
  },
  {
   "cell_type": "markdown",
   "metadata": {},
   "source": [
    "If you want to do a quick demo OR do some work without an install, there is the possibility of using a web browser-based editor with some similar characteristics to the mu editor. \n",
    "\n",
    "<img src=\"../images/browser.png\" width='640'>\n",
    "\n",
    "We WON'T explore this interface today other than to say:\n",
    "\n",
    "The browser version DOES NOT incorporate a Repl and does not provide a mechanism to flash your code directly to your micro:bit. You need to download a file that contains your code and use an alternate tool (i.e. file explorer) to get the prepared code onto the micro:bit."
   ]
  },
  {
   "cell_type": "markdown",
   "metadata": {},
   "source": [
    "# Using the Repl\n",
    "---"
   ]
  },
  {
   "cell_type": "markdown",
   "metadata": {},
   "source": [
    "The Repl includes several features to simplify both the coding experience and the exploration/experimentation experience."
   ]
  },
  {
   "cell_type": "markdown",
   "metadata": {},
   "source": [
    "## Tab completion\n",
    "\n",
    "One example is the default code completion capability when you type the name of an object method or attribute. As shown below, the `display` object has multiple methods/attributes that appear when you type `display.` (the object name followed by a period) and press **Tab** \n",
    "\n",
    "<img src='../images/repl_dot.png' width='640'>\n",
    "\n",
    "This helps you know what capabilities are available with each object, as well as the correct spelling for each attribute/method."
   ]
  },
  {
   "cell_type": "markdown",
   "metadata": {},
   "source": [
    "Tab completion can be used for: \n",
    "* builtin functions\n",
    "* builtin objects\n",
    "* your variables, as well!"
   ]
  },
  {
   "cell_type": "markdown",
   "metadata": {},
   "source": [
    "## History\n",
    "\n",
    "You can access your history of recently entered commands in the Repl, by pressing the **up-arrow**.\n",
    "\n",
    "If you overshoot and want to return to a command, you can use the **down-arrow** to scroll back down through your history."
   ]
  },
  {
   "cell_type": "markdown",
   "metadata": {},
   "source": [
    "## `dir()` or directory\n",
    "\n",
    "You can use the `dir()` function by itself OR you can use it in conjunction with an object to get a directory list of either variables in the current local scope OR to get the attributes associated with an object:\n",
    "\n",
    "### `dir()` by itself:\n",
    "```Python\n",
    ">>> import microbit\n",
    ">>> phrase = 'hello world'\n",
    ">>> dir()\n",
    "['__name__', 'microbit', 'phrase']             # for now, ignore '__name__'\n",
    "```\n",
    "\n",
    "### `dir(object)`\n",
    "```Python\n",
    "\n",
    ">>> from microbit import display\n",
    ">>> dir(display)\n",
    "['get_pixel', 'set_pixel', 'show', 'scroll', 'clear', 'on', 'off', 'is_on']\n",
    "```"
   ]
  },
  {
   "cell_type": "markdown",
   "metadata": {},
   "source": [
    "## NOTE: comments from the Python documentation\n",
    "\n",
    "```\n",
    "The default dir() mechanism behaves differently with different types of objects, as it attempts to produce the\n",
    "most relevant, rather than complete, information:\n",
    "\n",
    "* If the object is a module object, the list contains the names of the module’s attributes.\n",
    "\n",
    "* If the object is a type or class object, the list contains the names of its attributes, and recursively\n",
    "  of the attributes of its bases.\n",
    "\n",
    "Note: Because dir() is supplied primarily as a convenience for use at an interactive prompt, it tries to\n",
    "supply an interesting set of names more than it tries to supply a rigorously or consistently defined \n",
    "set of names, and its detailed behavior may change across releases. \n",
    "```"
   ]
  },
  {
   "cell_type": "markdown",
   "metadata": {},
   "source": [
    "## `help()`\n",
    "\n",
    "Many of the objects, methods and functions have help documentation associated with them.\n",
    "\n",
    "This can be accessed using the `help()` function:\n",
    "\n",
    "```Python\n",
    ">>> help(display.scroll)\n",
    "Use scroll(s) to scroll the string 's' across the display.\n",
    "Use scroll(s, i) to scroll string 's' with a delay of 'i' milliseconds after\n",
    "each character.\n",
    "\n",
    "```\n",
    "\n",
    "\n",
    "### WARNING:\n",
    "Not all objects have help documentation.\n",
    "Find one that is missing docs?\n",
    "Sounds like a great opportunity to contribute to an open source project!"
   ]
  },
  {
   "cell_type": "markdown",
   "metadata": {},
   "source": [
    "## Entering code\n",
    "\n",
    "You can enter Python code, create variables, import modules, call functions, etc right on the Repl, just as you would on a regular Python interpreter:\n",
    "\n",
    "```Python\n",
    ">>> a = 3\n",
    ">>> b = 4\n",
    ">>> import math\n",
    ">>> math.sqrt(a ** 2 + b ** 2)\n",
    "5.0\n",
    "```"
   ]
  },
  {
   "cell_type": "markdown",
   "metadata": {},
   "source": [
    "# Experience points\n",
    "---"
   ]
  },
  {
   "cell_type": "markdown",
   "metadata": {},
   "source": [
    "Perform the following steps in your Repl:"
   ]
  },
  {
   "cell_type": "markdown",
   "metadata": {},
   "source": [
    "1. Use the `help()` function to show the help documentation for the `display.show()` method\n",
    "1. Use the `display.show()` method to display your favorite letter of the alphabet\n",
    "1. Use the `display.show()` method to display your name\n",
    "1. Use the `display.show()` method to display your name, but with a 100 millisecond delay between the letters\n",
    "1. Use the `help()` function to show the documentation for the sleep function\n",
    "1. Use the `sleep()` function to set the micro:bit to sleep for 3 seconds (**NOTE**: during the sleep process, the Repl will be unresponsive)"
   ]
  },
  {
   "cell_type": "markdown",
   "metadata": {},
   "source": [
    "Next, let's learn about micro:bit's builtin Images.\n",
    "\n",
    "1. Type `from microbit import Image`\n",
    "1. Use the `dir()` function to show a list of all the attributes and methods of the `Image` object\n",
    "    * NOTE: several methods will appear written in all CAPS, i.e. `Image.SAD` or `Image.TSHIRT`. These items are pre-defined images that you can use. We will learn to make our own images, as well. Some items contain a sequence of images as a tuple, i.e. `Image.ALL_CLOCKS`. For now, avoid items that start with `ALL_`.\n",
    "    * To access one of the attributes, you use the full name: **`Image.HAPPY`**\n",
    "    \n",
    "1. Identify the names of TWO images that interest you. Remember these names, you will use them in the next step. \n",
    "1. Based on what you have learned, attempt to `display.show()` one of the images you picked.\n",
    "1. Use `display.show()` to display the other image you picked."
   ]
  },
  {
   "cell_type": "markdown",
   "metadata": {},
   "source": [
    "Creating an image of your own...\n",
    "1. Use the `help()` function to show the documentation for the `Image` object\n",
    "1. Using the variable name `myimage` to label to a new image, attempt to create your own image using the syntax presented in the help documentation:\n",
    "```Python\n",
    "# as an example...\n",
    "# NOTE the colons to separate rows of pixels...\n",
    "# the number 0 through 9 represents the brightness...\n",
    "# 0 being off and 9 being brightest.\n",
    ">>> myimage = Image('01234:'\n",
    "                       '01234:'\n",
    "                       '01234:'\n",
    "                       '01234:'\n",
    "                       '01234:'\n",
    "                       )                    \n",
    "```\n",
    "1. Use `display.show()` to show your new Image that you created."
   ]
  },
  {
   "cell_type": "markdown",
   "metadata": {},
   "source": [
    "NOTE: a potentially simpler `Image` syntax is:\n",
    "\n",
    "```Python\n",
    "Image('00001:00010:00100:01000:10000')\n",
    "```"
   ]
  },
  {
   "cell_type": "markdown",
   "metadata": {},
   "source": [
    "When complete, put your sticky note on the top of your monitor.\n",
    "\n",
    "(You may also keep going, if that suits you).\n",
    "\n",
    "<img src='../images/green_sticky.300px.png' width=\"175px\" style=\"float:left\">"
   ]
  },
  {
   "cell_type": "markdown",
   "metadata": {},
   "source": [
    "# Using the text editor\n",
    "---"
   ]
  },
  {
   "cell_type": "markdown",
   "metadata": {},
   "source": [
    "Much like the Repl, the text editor includes several features to simplify both the coding experience and the exploration/experimentation experience.\n",
    "\n",
    "One example is the default code completion dropdown that appears when you are typing the name of an object method or attribute. As shown below, the `display` object has multiple methods/attributes that appear when you type `display.` (i.e. the object name followed by a period).\n",
    "\n",
    "<img src=\"../images/dropdown_dot.png\" width='500'>\n",
    "\n",
    "When you start to type the name of one of the options, the highlighting will advance to pinpoint the atribute/method that matches. You can then press either **Enter** OR **Tab** to complete the attribute/method name.\n",
    "\n",
    "<img src=\"../images/dropdown.png\" width='500'>"
   ]
  },
  {
   "cell_type": "markdown",
   "metadata": {},
   "source": [
    "# Transferring your code to your micro:bit\n",
    "---"
   ]
  },
  {
   "cell_type": "markdown",
   "metadata": {},
   "source": [
    "Once you have completed a script in the text editor, you need to transfer your code to your micro:bit. To do this you will `flash` or copy your script to the micro:bit, using the `Flash` button.\n",
    "\n",
    "The Flash button creates a new copy of the MicroPython library, with your code attached and copies the entire package to your micro:bit."
   ]
  },
  {
   "cell_type": "markdown",
   "metadata": {},
   "source": [
    "## Your first script\n",
    "\n",
    "Let's create a simple script, save it to your local hard drive and then flash it to your micro:bit\n",
    "\n",
    "1. When you first open your mu editor, there should be a simple code skeleton displayed in the text editor:\n",
    "<br><img src='../images/empty_editor.png' width='500'><br>\n",
    "1. It is common in many tutorials and examples to immediately import all objects from the `microbit` module using `*` \n",
    "   * **NOTE**: although such use of **`*`** is not recommended in most Python tutorials, we will do it anyway. \n",
    "1. Enter the following code into the text editor after the phrase: `Write your code here :-)`\n",
    "```Python\n",
    "display.scroll('Py')\n",
    "display.scroll('yP')\n",
    "```      \n",
    "1. Click the **Save** button\n",
    "1. Type the name of your file in the `File name` field: I called this script `retrograde_scroll.py`\n",
    "1. Press **Enter** or click **Save**\n",
    "1. Click the **Flash** button\n",
    "1. Notice, the yellow light on the back of your micro:bit should start flashing.\n",
    "1. Wait for the yellow light to stop flashing, at which point, your script should run automatically."
   ]
  },
  {
   "cell_type": "code",
   "execution_count": null,
   "metadata": {},
   "outputs": [],
   "source": []
  },
  {
   "cell_type": "markdown",
   "metadata": {},
   "source": [
    "# Experience points\n",
    "---"
   ]
  },
  {
   "cell_type": "markdown",
   "metadata": {},
   "source": [
    "Perform the following steps in your text editor:"
   ]
  },
  {
   "cell_type": "markdown",
   "metadata": {},
   "source": [
    "* Click the `New` button to create a new script\n",
    "* Type the following: \n",
    "\n",
    "```Python\n",
    "from microbit import *\n",
    "\n",
    "for i in range(20):\n",
    "    display.show(Image.HEART)\n",
    "    sleep(200)\n",
    "    display.show(Image.HEART_SMALL)\n",
    "    sleep(200)\n",
    "```\n",
    "\n",
    "1. Click the **Save** button\n",
    "1. Type the name of your file in the `File name` field: I called this script `heart.py`\n",
    "1. Press **Enter** or click **Save**\n",
    "1. Click the **Flash** button\n",
    "1. Notice, the yellow light on the back of your micro:bit should start flashing.\n",
    "1. Wait for the yellow light to stop flashing, at which point, your script should run automatically."
   ]
  },
  {
   "cell_type": "markdown",
   "metadata": {},
   "source": [
    "When complete, put your sticky note on the top of your monitor.\n",
    "\n",
    "(You may also keep going, if that suits you).\n",
    "\n",
    "<img src='../images/green_sticky.300px.png' width=\"175px\" style=\"float:left\">"
   ]
  },
  {
   "cell_type": "markdown",
   "metadata": {},
   "source": [
    "## Rerunning your code\n",
    "\n",
    "When you want to rerun the script, if it has already been flashed to your micro:bit, you can simply press the **reset** button on the back of the micro:bit.\n"
   ]
  },
  {
   "cell_type": "code",
   "execution_count": null,
   "metadata": {},
   "outputs": [],
   "source": []
  }
 ],
 "metadata": {
  "kernelspec": {
   "display_name": "Python 3",
   "language": "python",
   "name": "python3"
  },
  "language_info": {
   "codemirror_mode": {
    "name": "ipython",
    "version": 3
   },
   "file_extension": ".py",
   "mimetype": "text/x-python",
   "name": "python",
   "nbconvert_exporter": "python",
   "pygments_lexer": "ipython3",
   "version": "3.6.3"
  }
 },
 "nbformat": 4,
 "nbformat_minor": 2
}
