{
 "cells": [
  {
   "cell_type": "markdown",
   "metadata": {},
   "source": [
    "# Welcome to the Dark Art of Coding:\n",
    "## Introduction to the micro:bit\n",
    "Basics\n",
    "\n",
    "<img src='../images/dark_art_logo.600px.png' height='250' width='300' style=\\\"float:right\\\">"
   ]
  },
  {
   "cell_type": "markdown",
   "metadata": {},
   "source": [
    "# Objectives\n",
    "---"
   ]
  },
  {
   "cell_type": "markdown",
   "metadata": {},
   "source": [
    "In this lesson we're going over a few of the necessary things to learn python for micro:bit\n",
    "\n",
    "* The finer points of the mu editor\n",
    "* Discuss several ways to interface with your micro:bit: mu editor vs web [browser-based editor](http://python.microbit.org/v/1)\n",
    "* How to use the mu editor's repl to interactively control the micro:bit\n",
    "* How to use the mu editor's text editor to create scripts\n",
    "* How to transfer your scripts to the micro:bit and run them\n",
    "\n",
    "This lesson presumes you already have the mu editor installed. IF not, [go back](../00_install_and_prep/install.ipynb) and install the editor."
   ]
  },
  {
   "cell_type": "markdown",
   "metadata": {},
   "source": [
    "# Overview\n",
    "---"
   ]
  },
  {
   "cell_type": "markdown",
   "metadata": {},
   "source": []
  },
  {
   "cell_type": "markdown",
   "metadata": {},
   "source": [
    "# Using mu\n",
    "---"
   ]
  },
  {
   "cell_type": "markdown",
   "metadata": {},
   "source": [
    "When you first open mu it should look like this:\n",
    "\n",
    "<img src=\"mu_empty.png\" width='640'>"
   ]
  },
  {
   "cell_type": "markdown",
   "metadata": {},
   "source": [
    "During the installation lesson, we covered the `New, Load, Save, Flash` and `Repl` buttons.\n",
    "\n",
    "Let's cover the remaining buttons:\n",
    "\n",
    "### Files\n",
    "\n",
    "Displays a simple file system viewer/explorer.\n",
    "\n",
    "NOTE: The you can not display both the Repl and the file system explorer at the same time. IF you get a warning message, click ok on the warning dialogue and then click the Repl button to toggle the Repl off, before clicking the Files button again.\n",
    "\n",
    "### Zoom-in\n",
    "\n",
    "This button enlarges the font size.\n",
    "\n",
    "### Zoom-out\n",
    "\n",
    "This button decreases the font.\n",
    "\n",
    "### Theme\n",
    "\n",
    "Clicking this button toggles between two basic themes: light and dark.\n",
    "\n",
    "\n",
    "### Check\n",
    "\n",
    "Checks your code and will do its best to identify any errors (syntax, spelling, etc). If possible, it will check all the lines and highlight all the lines that have errors with red arrows.\n",
    "\n",
    "NOTE: if your last line of code does NOT have a newline character at the end, this is perceived as an error. See the examples of some errors in this picture:\n",
    "\n",
    "<img src=\"../images/check.png\" width='640'>\n",
    "\n",
    "### Help\n",
    "\n",
    "Provides you with access to the help documentation for the mu editor via your web browser.\n",
    "\n",
    "\n"
   ]
  },
  {
   "cell_type": "markdown",
   "metadata": {},
   "source": [
    "# Browser version?\n",
    "---"
   ]
  },
  {
   "cell_type": "markdown",
   "metadata": {},
   "source": [
    "If you want to do a quick demo OR do some work without an install, there is the possibility of using a web browser-based editor with some similar characteristics to the mu editor. \n",
    "\n",
    "<img src=\"../images/browser.png\" width='640'>\n",
    "\n",
    "We WON'T explore this interface today other than to say:\n",
    "\n",
    "The browser version DOES NOT incorporate a Repl and does not provide a mechanism to flash your code directly to your micro:bit. You need to download a file with your code and use an alternate tool to get the prepared code onto the micro:bit."
   ]
  },
  {
   "cell_type": "markdown",
   "metadata": {},
   "source": [
    "# Using the Repl\n",
    "---"
   ]
  },
  {
   "cell_type": "markdown",
   "metadata": {},
   "source": [
    "The Repl includes several features to simplify both the coding experience and the exploration/experimentation experience.\n",
    "\n",
    "One example is the default code completion capability when you type the name of an object method or attribute. As shown below, the `display` object has multiple methods/attributes that appear when you type `display.` (the object name followed by a period) and press **Tab** \n",
    "\n",
    "<img src='../images/repl_dot.png' width='640'>\n",
    "\n",
    "This helps you know what capabilities are available with each object, as well as the correct spelling for each attribute/method."
   ]
  },
  {
   "cell_type": "code",
   "execution_count": null,
   "metadata": {},
   "outputs": [],
   "source": [
    "tab completion\n",
    "* for builtin functions and objects\n",
    "* for your variables as well\n",
    "\n",
    "\n",
    "\n",
    "history using up-arrow and down-arrow\n"
   ]
  },
  {
   "cell_type": "markdown",
   "metadata": {},
   "source": [
    "dir()\n",
    "dir(object)\n"
   ]
  },
  {
   "cell_type": "markdown",
   "metadata": {},
   "source": [
    "# Using the text editor\n",
    "---"
   ]
  },
  {
   "cell_type": "markdown",
   "metadata": {},
   "source": [
    "The text editor includes several features to simplify both the coding experience and the exploration/experimentation experience.\n",
    "\n",
    "One example is the default code completion dropdown that appears when you are typing the name of an object method or attribute. As shown below, the `display` object has multiple methods/attributes that appear when you type `display.` (the object name followed by a period).\n",
    "\n",
    "<img src=\"../images/dropdown_dot.png\" width='500'>\n",
    "\n",
    "When you start to type the name of one of the options, the highlighting will advance to pinpoint the atribute/method that matches. You can then press either **Enter** OR **Tab** to complete the attribute/method name.\n",
    "\n",
    "<img src=\"../images/dropdown.png\" width='500'>"
   ]
  },
  {
   "cell_type": "markdown",
   "metadata": {},
   "source": [
    "# Transferring your code to your micro:bit\n",
    "---"
   ]
  },
  {
   "cell_type": "code",
   "execution_count": null,
   "metadata": {},
   "outputs": [],
   "source": []
  },
  {
   "cell_type": "code",
   "execution_count": null,
   "metadata": {},
   "outputs": [],
   "source": []
  },
  {
   "cell_type": "code",
   "execution_count": null,
   "metadata": {},
   "outputs": [],
   "source": []
  },
  {
   "cell_type": "code",
   "execution_count": null,
   "metadata": {},
   "outputs": [],
   "source": []
  },
  {
   "cell_type": "markdown",
   "metadata": {},
   "source": [
    "# Strings\n",
    "---"
   ]
  },
  {
   "cell_type": "markdown",
   "metadata": {},
   "source": [
    "## What are they?\n",
    "\n",
    "Strings are a simple way of storing word data. Here are a DOs and DON'Ts:\n",
    "\n",
    "### DOs\n",
    "* Surround by EITHER a single quote:\n",
    "    * `'Hello world!'`\n",
    "* OR a double quote:\n",
    "    * `\"Hi world!\"`\n",
    "\n",
    "### DON'Ts\n",
    "* Mix quote types:\n",
    "    * `'Hello mars!\"`\n",
    "* Use a single or double quote in the SAME quoted string:\n",
    "    * `'This can't be!'`\n",
    "    * `\"So he said \"hello\" to me can you believe that?\"`\n",
    "\n",
    "Other than those few rules you can do just about anything you want to do:\n",
    "\n",
    "* `\"I CAN DO UPPERCASE WORDS\"`\n",
    "* `'or little case words'`\n",
    "* `'I c4n pu7 numb3r5 1n70 my 57r1ng5'`\n",
    "* `'3.14'`\n",
    "\n",
    "Please note that the quotes surrounding a string are NOT part of the string itself"
   ]
  },
  {
   "cell_type": "markdown",
   "metadata": {},
   "source": [
    "## Some of the things we can do with them\n",
    "\n",
    "We can do lots of things with strings like:\n",
    "\n",
    "* Add them together:\n",
    "    * `'Hello' + 'World!'`\n",
    "    * `'HelloWorld!'`\n",
    "* Slide them across the Micro:Bit\n",
    "    * `display.scroll('my string')`"
   ]
  },
  {
   "cell_type": "markdown",
   "metadata": {},
   "source": [
    "## Indexing\n",
    "\n",
    "Say we have a lot of data in our string and we want a portion of it. We know where it is but we only need a small section. We'd use indexing to get it out. We can get a single letter:\n",
    "\n",
    "`'hello'[1]` would give us `'e'`\n",
    "\n",
    "You'll notice that when we ask for the 1 item it gives us what appears to be the second item. This is because Python indexes starting at zero. A strings indexes look like this:\n",
    "\n",
    "`h e l l o`<br>\n",
    "`0 1 2 3 4`\n",
    "\n",
    "If we want to get an 'h' from our string we'd have to do this:\n",
    "\n",
    "`'hello'[0]`\n",
    "\n",
    "Now using indexing you can get not only a single letter but you can get entire substrings from them:\n",
    "\n",
    "`'lets just grab a single word'[17:23]`\n",
    "\n",
    "This will grab all the characters from index 17 up to BUT NOT INCLUDING 23"
   ]
  },
  {
   "cell_type": "markdown",
   "metadata": {},
   "source": [
    "# Experience Points!\n",
    "---"
   ]
  },
  {
   "cell_type": "markdown",
   "metadata": {},
   "source": [
    "## Make some strings!\n",
    "\n",
    "Let's open up our repl and make some strings<br>\n",
    "Let's make some strings and have them scroll across your Micro:Bit! Try using your name or the name of your favorite pet. What's your favorite color?\n",
    "\n",
    "Remember in order to scroll your scrings you have to first import the microbit module\n",
    "\n",
    "`from microbit import *`\n",
    "\n",
    "This lets us use the different parts and pieces of our Micro:Bit. From here we can use this command to scroll the string across teh display\n",
    "\n",
    "`display.scroll('YOUR STRING HERE!')`\n",
    "\n",
    "If you do that with enough strings you can even do\n",
    "\n",
    "`display.show('YOUR STRING HERE')`\n",
    "\n",
    "What this one does is briefly show each letter one at a time instead of scrolling"
   ]
  },
  {
   "cell_type": "markdown",
   "metadata": {},
   "source": [
    "# Ints/Floats\n",
    "---"
   ]
  },
  {
   "cell_type": "markdown",
   "metadata": {},
   "source": [
    "## Ints\n",
    "\n",
    "In python if you want to do math you need either integers or floating point numbers(ints and floats for short)\n",
    "\n",
    "To make an integer simply type a number... Have you typed a number? Yes? Then you have an integer:\n",
    "\n",
    "* 5\n",
    "* 53\n",
    "* -203\n",
    "* 2935712038714825792851075902358730459824650146994587123508572934875034\n",
    "\n",
    "All of those are integers\n",
    "\n",
    "You can use them for fun math! If you put an integer on either side of some special symbols Python does math on those numbers for example:\n",
    "\n",
    "* Addition: `5 + 5`\n",
    "    * `10`\n",
    "* Subtraction: `7 - 3`\n",
    "    * `4`\n",
    "* Multiplication: `9 \\* 10`\n",
    "    * `90`\n",
    "* Division: `8 / 4`\n",
    "    * `2.0`"
   ]
  },
  {
   "cell_type": "markdown",
   "metadata": {},
   "source": [
    "## Floats\n",
    "\n",
    "This brings us to our second type of number\n",
    "\n",
    "In python if you want to make part of a number you would use a float. Any number with a decimal point is a float. They can still be whole numbers but if it has a decimal then it is going to be a float:\n",
    "\n",
    "* 3.12\n",
    "* -25.9\n",
    "* 2.0\n",
    "* 182749802370156204795602394465097634895091750345.1\n",
    "\n",
    "These are all floats and the can do roughly the same things as integers\n",
    "\n",
    "**NOTE:** If you attempt to do math on an float and you get back something that looks odd. For example:\n",
    "\n",
    "`3.5 + 4.5`<br>\n",
    "`8.00000000001`\n",
    "\n",
    "This is normal. Python is really good at doing math with integers. However floats are a lot more difficult to do math on and sometimes they get errors that are off by very very small amounts. It shouldn't be too much of a problem but it is something to be aware of"
   ]
  },
  {
   "cell_type": "markdown",
   "metadata": {},
   "source": [
    "## Conversion\n",
    "\n",
    "If we have one of those data types that LOOKS like one of our other data types, we can convert it into the other type.\n",
    "\n",
    "* We can convert strings to integers or floats so long as they look like ints or floats(This way we can do actual math on the numbers in our string):\n",
    "    * `int('42')` would give us `42`\n",
    "    * `float('56.82')` would give us `56.82`\n",
    "* We can also go the other direction and convert ints or floats into strings(This way we can get the results of our math into functions like `display.scroll()`)\n",
    "    * `str(42)` would give us `'42'`\n",
    "    * `str(56.82)` would give us `'56.82'`"
   ]
  },
  {
   "cell_type": "markdown",
   "metadata": {},
   "source": [
    "# Variables\n",
    "---\n",
    "\n",
    "Sometimes you get data(Strings, Ints, Floats, or even something we haven't talked about yet) that you want to save and refer to again later. You can use a variable as a kind of tag. When you get a piece of data you can place that tag on top of the data and when you need the data again you can grab the tag and Python automatically gets you your data.\n",
    "\n",
    "## Making a variable\n",
    "\n",
    "In order to make a variable you simply come up with a variable name that makes sense, then make it 'equal' to a value:\n",
    "\n",
    "`level = 10`\n",
    "\n",
    "This makes a variable called level and gives it the data 10. We can assign variables to strings as well:\n",
    "\n",
    "`name = 'Aidan'`\n",
    "\n",
    "## Reading a variable\n",
    "\n",
    "Say we want to take the data we've stored away and actually read it this time. Display the results of some math or show the string of some input of some type. We read our variable data the same way we use a data literal:\n",
    "\n",
    "`display.scroll(name)`<br>\n",
    "`level + 42`\n",
    "\n",
    "If we were to run those lines your Micro:Bit would scroll the string stored under the tag `name` and it would add `level` to `42`. If you want to store the output of some math to a variable you can do that too:\n",
    "\n",
    "`maxLevel = level + 42`\n",
    "\n",
    "Now we can refer to `maxLevel` and it would point to whatever `level` had(which was 10) plus 42 giving us 52\n",
    "\n",
    "## Updating variables\n",
    "\n",
    "Say we have a variable and we want to change it. We USED to have 500 gold on our character but we just opened a chest and got some more. First we create our variable\n",
    "\n",
    "`gold = 500`\n",
    "\n",
    "If we want to update our variable we simply reassign our variable to whatever the output of our math using the same variable\n",
    "\n",
    "`gold = gold + 1`\n",
    "\n",
    "When Python looks at a tag assignment statement it looks at the RIGHT side first. It doesn't update the variable on the left UNTIL the math on the right is finished"
   ]
  },
  {
   "cell_type": "markdown",
   "metadata": {},
   "source": [
    "# Experience Points\n",
    "---"
   ]
  },
  {
   "cell_type": "markdown",
   "metadata": {},
   "source": [
    "## Let's make some variables!\n",
    "\n",
    "I want you guys to make some variables on your Micro:Bit repl with the tags:\n",
    "\n",
    "* name\n",
    "* food\n",
    "* color\n",
    "* animal\n",
    "\n",
    "Fill in those variables with strings of your name, favorite food, favorite color, and favorite animal. Once you have all these strings go ahead and scroll them across your Micro:Bit."
   ]
  },
  {
   "cell_type": "markdown",
   "metadata": {},
   "source": [
    "# Conclusion\n",
    "---\n",
    "\n",
    "We've talked about strings, ints, floats, and variables. These are but a few of the necessary things needed to use Python and your Micro:Bit. Tomorrow we'll talk about lists and dictionaries. For now ask questions, give comments, and address concerns"
   ]
  },
  {
   "cell_type": "code",
   "execution_count": null,
   "metadata": {
    "collapsed": true
   },
   "outputs": [],
   "source": []
  }
 ],
 "metadata": {
  "kernelspec": {
   "display_name": "Python 3",
   "language": "python",
   "name": "python3"
  },
  "language_info": {
   "codemirror_mode": {
    "name": "ipython",
    "version": 3
   },
   "file_extension": ".py",
   "mimetype": "text/x-python",
   "name": "python",
   "nbconvert_exporter": "python",
   "pygments_lexer": "ipython3",
   "version": "3.6.3"
  }
 },
 "nbformat": 4,
 "nbformat_minor": 2
}
