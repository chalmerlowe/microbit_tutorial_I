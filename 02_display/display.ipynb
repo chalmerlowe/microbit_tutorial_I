{
 "cells": [
  {
   "cell_type": "markdown",
   "metadata": {},
   "source": [
    "# Welcome to the Dark Art of Coding:\n",
    "## Introduction to the micro:bit\n",
    "Basics\n",
    "\n",
    "<img src='../images/dark_art_logo.600px.png' height='250' width='300' style='float:right'>"
   ]
  },
  {
   "cell_type": "markdown",
   "metadata": {},
   "source": [
    "# Objectives\n",
    "---"
   ]
  },
  {
   "cell_type": "markdown",
   "metadata": {},
   "source": [
    "In this lesson we're going over a few more features of the micro:bit display. The student will walk away understanding how:\n",
    "\n",
    "* to show images OR sequences of images\n",
    "* to use of `display.scroll()` \n",
    "* to get AND set the brightness of a pixel\n",
    "* to clear the screen\n",
    "* find more about the capabilities of the screen\n"
   ]
  },
  {
   "cell_type": "markdown",
   "metadata": {},
   "source": [
    "# Showing Images and sequences of Images\n",
    "---"
   ]
  },
  {
   "cell_type": "markdown",
   "metadata": {},
   "source": [
    "```Python\n",
    "from microbit import Image\n",
    "\n",
    "display.show(Image.HEART)\n",
    "```"
   ]
  },
  {
   "cell_type": "markdown",
   "metadata": {},
   "source": [
    "```Python\n",
    "# contrast this with:\n",
    "\n",
    "display.show(Image.ALL_ARROWS)\n",
    "```\n",
    "\n",
    "**QUESTION**: Why is this different? \n",
    "\n",
    "**ANSWER**: As seen here... ALL_ARROWS is actually a **tuple** of stand-alone Images).\n",
    "\n",
    "```Python\n",
    ">>> Image.ALL_ARROWS\n",
    "(Image('00900:09990:90909:00900:00900:'), \n",
    " Image('00999:00099:00909:09000:90000:'), \n",
    " Image('00900:00090:99999:00090:00900:'), \n",
    " Image('90000:09000:00909:00099:00999:'), \n",
    " Image('00900:00900:90909:09990:00900:'), \n",
    " Image('00009:00090:90900:99000:99900:'), \n",
    " Image('00900:09000:99999:09000:00900:'), \n",
    " Image('99900:99000:90900:00090:00009:'))\n",
    "```\n",
    "\n",
    "By default, `display.show()` displays each image sequentially."
   ]
  },
  {
   "cell_type": "markdown",
   "metadata": {},
   "source": [
    "**QUESTION**: How do we figure out how to change the interval between image transitions?\n",
    "\n",
    "**ANSWER**: Use the `help()` function to look up the syntax documentation for `display.show()`"
   ]
  },
  {
   "cell_type": "code",
   "execution_count": null,
   "metadata": {},
   "outputs": [],
   "source": []
  },
  {
   "cell_type": "markdown",
   "metadata": {},
   "source": [
    "# Experience points\n",
    "---"
   ]
  },
  {
   "cell_type": "markdown",
   "metadata": {},
   "source": [
    "Do the following on the **REPL**\n",
    "\n",
    "1. Create a `tuple` of 5 Images and save it with the label `myImages`\n",
    "1. Use `display.show()` to display `myImages`\n",
    "1. Use `display.show()` again, but change the interval between image transitions\n",
    "1. `myImages` is a tuple and is thus indexable (i.e. `myImages[2]`) Use `display.show()` to show just the first and last images from `myImages`\n"
   ]
  },
  {
   "cell_type": "markdown",
   "metadata": {},
   "source": [
    "When complete, put your sticky note on the top of your monitor.\n",
    "\n",
    "(You may also keep going, if that suits you).\n",
    "\n",
    "<img src='../images/green_sticky.300px.png' width=\"175px\" style=\"float:left\">"
   ]
  },
  {
   "cell_type": "code",
   "execution_count": null,
   "metadata": {},
   "outputs": [],
   "source": []
  },
  {
   "cell_type": "markdown",
   "metadata": {},
   "source": [
    "# Using `display.scroll()`\n",
    "---"
   ]
  },
  {
   "cell_type": "markdown",
   "metadata": {},
   "source": [
    "`display.scroll()` also allows you to set a delay timer, but the behavior was not what I expected...\n",
    "\n",
    "Let's experiment..."
   ]
  },
  {
   "cell_type": "markdown",
   "metadata": {},
   "source": [
    "# Experience points\n",
    "---"
   ]
  },
  {
   "cell_type": "markdown",
   "metadata": {},
   "source": [
    "1. Click the **New** button to create a new script\n",
    "1. Add the following code:\n",
    "\n",
    "```Python\n",
    "from microbit import *\n",
    "\n",
    "display.scroll('Python')\n",
    "display.scroll('Python', 10)\n",
    "display.scroll('Python', 70)\n",
    "display.scroll('Python', 1000)\n",
    "```\n",
    "3. Click the **Save** button\n",
    "1. Use `myscroll.py` as the name of your file in the `File name` field.\n",
    "1. Click the **Flash** button\n"
   ]
  },
  {
   "cell_type": "markdown",
   "metadata": {},
   "source": [
    "When complete, put your sticky note on the top of your monitor.\n",
    "\n",
    "(You may also keep going, if that suits you).\n",
    "\n",
    "<img src='../images/green_sticky.300px.png' width=\"175px\" style=\"float:left\">"
   ]
  },
  {
   "cell_type": "code",
   "execution_count": null,
   "metadata": {},
   "outputs": [],
   "source": []
  },
  {
   "cell_type": "markdown",
   "metadata": {},
   "source": [
    "# To get and set the brightness of a pixel\n",
    "---"
   ]
  },
  {
   "cell_type": "markdown",
   "metadata": {},
   "source": [
    "It is possible to set brightness values for individual pixels AND to ask for the current brightness setting using:\n",
    "\n",
    "* `display.set_pixel(col, row, b)`\n",
    "* `display.get_pixel(col, row)`\n",
    "\n",
    "\n",
    "In the help documentation, the arguments are listed as:\n",
    "\n",
    "* `x --> col`\n",
    "* `y --> row`\n"
   ]
  },
  {
   "cell_type": "markdown",
   "metadata": {},
   "source": [
    "To set a specific pixel brightness, identify the column (x) and row (y) and the brightness, between 0 (off) and 9 (brightest):\n",
    "\n",
    "For example:\n",
    "\n",
    "```Python\n",
    ">>> display.set_pixel(0, 4, 5)\n",
    ">>> display.set_pixel(1, 4, 5)\n",
    ">>> display.set_pixel(2, 4, 9)\n",
    "```"
   ]
  },
  {
   "cell_type": "markdown",
   "metadata": {},
   "source": [
    "To get the pixel brightness, identify the column (x) and row (y):\n",
    "\n",
    "For example:\n",
    "\n",
    "```Python\n",
    ">>> display.get_pixel(0, 4,)\n",
    "5\n",
    ">>> display.get_pixel(1, 4)\n",
    "5\n",
    ">>> display.get_pixel(2, 4)\n",
    "9\n",
    "```"
   ]
  },
  {
   "cell_type": "markdown",
   "metadata": {},
   "source": [
    "# Experience points\n",
    "---"
   ]
  },
  {
   "cell_type": "markdown",
   "metadata": {},
   "source": [
    "Perform the following steps in your Repl:"
   ]
  },
  {
   "cell_type": "markdown",
   "metadata": {},
   "source": [
    "1. Set pixels manually to light up each of the four corners of your micro:bit display with a brightness of 9.\n",
    "1. Set the brightness of the middle pixel to 5.\n",
    "1. Programmatically get the brightness of all the pixels, starting in upper left corner and checking row by row. Confirm that some are off and the others are set at the brightnesses you picked. \n"
   ]
  },
  {
   "cell_type": "markdown",
   "metadata": {},
   "source": [
    "When complete, put your sticky note on the top of your monitor.\n",
    "\n",
    "(You may also keep going, if that suits you).\n",
    "\n",
    "<img src='../images/green_sticky.300px.png' width=\"175px\" style=\"float:left\">"
   ]
  },
  {
   "cell_type": "code",
   "execution_count": null,
   "metadata": {},
   "outputs": [],
   "source": []
  },
  {
   "cell_type": "markdown",
   "metadata": {},
   "source": [
    "# Clearing your screen and more...\n",
    "---"
   ]
  },
  {
   "cell_type": "markdown",
   "metadata": {},
   "source": [
    "There are some additional functionality that we will mention and leave as an exercise for the student:\n",
    "\n",
    "|Method|Outcome|\n",
    "|-----|----|\n",
    "|display.clear()|Clear the display|\n",
    "|display.on()|Turn the display on|\n",
    "|display.off()|Turn the display off (brightness settings are retained, until changed)|\n",
    "|display.is_on()|Check whether the display is on OR not (True, False)|\n",
    "\n",
    "    \n",
    "    "
   ]
  },
  {
   "cell_type": "code",
   "execution_count": null,
   "metadata": {},
   "outputs": [],
   "source": []
  }
 ],
 "metadata": {
  "kernelspec": {
   "display_name": "Python 3",
   "language": "python",
   "name": "python3"
  },
  "language_info": {
   "codemirror_mode": {
    "name": "ipython",
    "version": 3
   },
   "file_extension": ".py",
   "mimetype": "text/x-python",
   "name": "python",
   "nbconvert_exporter": "python",
   "pygments_lexer": "ipython3",
   "version": "3.6.3"
  }
 },
 "nbformat": 4,
 "nbformat_minor": 2
}
