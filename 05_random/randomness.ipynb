{
 "cells": [
  {
   "cell_type": "code",
   "execution_count": null,
   "metadata": {},
   "outputs": [],
   "source": []
  },
  {
   "cell_type": "markdown",
   "metadata": {},
   "source": [
    "# Welcome to the Dark Art of Coding:\n",
    "## Introduction to the micro:bit\n",
    "Basics\n",
    "\n",
    "<img src='../images/dark_art_logo.600px.png' height='250' width='300' style='float:right'>"
   ]
  },
  {
   "cell_type": "markdown",
   "metadata": {},
   "source": [
    "# Objectives\n",
    "---"
   ]
  },
  {
   "cell_type": "markdown",
   "metadata": {},
   "source": [
    "In this lesson we're going to explore how to use the randomization functions present on the micro:bit. The student will walk away understanding how to:\n",
    "* seed\n",
    "* choice\n",
    "* getrandbits\n",
    "* randint\n",
    "* random\n",
    "* randrange\n",
    "* uniform"
   ]
  },
  {
   "cell_type": "markdown",
   "metadata": {},
   "source": [
    "To use the `random` library on the micro:bit, much like in a full blown Python installation, you need to import it:\n",
    "\n",
    "```Python\n",
    ">>> import random\n",
    ">>> dir(random)\n",
    "[..., 'getrandbits', 'seed', 'randrange', 'randint', 'choice', 'random', 'uniform']\n",
    "```\n",
    "\n",
    "\n"
   ]
  },
  {
   "cell_type": "markdown",
   "metadata": {},
   "source": [
    "Two things to note:\n",
    "\n",
    "* this is a subset of the random methods found in the Python Standard Library. MicroPython purposely uses a subset to reduce the product size\n",
    "* some of the functions may also have slightly limited functionality"
   ]
  },
  {
   "cell_type": "markdown",
   "metadata": {},
   "source": [
    "# `random.seed()`\n",
    "---"
   ]
  },
  {
   "cell_type": "markdown",
   "metadata": {},
   "source": [
    "Each of the random methods is actually a pseudorandom number generator. Each randomizer function maintains a value that helps it generate the next number in the sequence.\n",
    "\n",
    "Under normal circumstances, the method starts with a value that approximates something random (time since some event, temperature of the CPU, etc, etc). Once the first starter value (or seed) is selected, the random number generated becomes the seed for the next iteration of the random method.\n",
    "\n",
    "Thus, for those situations where you want to have a known series of random events (i.e. in scientific experimentation OR in a classroom environment) you can override the starter value by supplying your own seed, using:\n",
    "\n",
    "`random.seed(v)`\n",
    "\n",
    "Where `v` can be any integer."
   ]
  },
  {
   "cell_type": "markdown",
   "metadata": {},
   "source": [
    "## An example\n",
    "\n",
    "```Python\n",
    ">>> random.seed(1000)          # Let's start with a starter value\n",
    ">>> random.randint(1, 5)\n",
    "2\n",
    ">>> random.randint(1, 5)\n",
    "4\n",
    ">>> random.randint(1, 5)\n",
    "1\n",
    ">>> random.randint(1, 5)\n",
    "1\n",
    ">>> random.seed(1000)          # Let's reseed with the same starter value\n",
    ">>> random.randint(1, 5)\n",
    "2\n",
    ">>> random.randint(1, 5)\n",
    "4\n",
    ">>> random.randint(1, 5)\n",
    "1\n",
    ">>> random.randint(1, 5)\n",
    "1\n",
    "```"
   ]
  },
  {
   "cell_type": "markdown",
   "metadata": {},
   "source": [
    "# All the rest...\n",
    "---"
   ]
  },
  {
   "cell_type": "markdown",
   "metadata": {},
   "source": [
    "This table covers the basics of the random methods:\n",
    "\n",
    "|method|Return values|\n",
    "|:--|:--|\n",
    "|`random.choice(['a', 'b'])`|Returns an item from a sequence (i.e. list, tuple, etc)|\n",
    "|`random.getrandbits(k)`|Returns a random integer based on `k` bits|\n",
    "|`random.random()`|Returns a value between 0 and 1, NOT inclusive|\n",
    "|`random.randint(x, y)`|Returns an integer from the integers between two values x, y (inclusive)|\n",
    "|`random.randrange(x, y)`|Returns an integer from the integers between two values, but not including the upper bound|\n",
    "|`random.uniform(x, y)`|Returns a float from between the bounds given, inclusive|\n",
    "\n"
   ]
  },
  {
   "cell_type": "code",
   "execution_count": null,
   "metadata": {},
   "outputs": [],
   "source": []
  },
  {
   "cell_type": "markdown",
   "metadata": {},
   "source": [
    "# Experience points\n",
    "---"
   ]
  },
  {
   "cell_type": "markdown",
   "metadata": {},
   "source": [
    "On the micro:bit repl, provide these sample values for each of these methods and see what results you get back.\n",
    "\n",
    "1. `random.seed(500)`\n",
    "1. `random.randint(1, 10)`\n",
    "1. `random.randint(1, 10)`\n",
    "1. `random.randint(1, 10)`\n",
    "1. `random.randint(1, 10)`\n",
    "\n",
    "By reseting the seed with the same value, you should repeat the same \"pseudorandom\" sequence of values\n",
    "1. `random.seed(500)`\n",
    "1. `random.randint(1, 10)`\n",
    "1. `random.randint(1, 10)`\n",
    "1. `random.randint(1, 10)`\n",
    "1. `random.randint(1, 10)`\n"
   ]
  },
  {
   "cell_type": "markdown",
   "metadata": {},
   "source": [
    "## Write a script!\n",
    "\n",
    "1. Click the **New** button to create a new script\n",
    "1. Import the `random` module\n",
    "1. Create a variable called `letters` associated with the string: `'python'`\n",
    "1. Create a `for` loop that repeats 4 times:\n",
    "   * use `random.choice()` to pick a letter from amongst the variable `letters`\n",
    "   * `display.show()` the letter to the screen\n",
    "   * `sleep()` for 700 milliseconds\n",
    "1. 1. Create a `for` loop that repeats 4 times:\n",
    "   * use `random.randint()` to pick a number from between 1 and 100\n",
    "   * `display.scroll()` the letter to the screen\n",
    "   * `sleep()` for 700 milliseconds\n",
    "\n",
    "1. Click the **Save** button\n",
    "1. Use `myled.py` as the name of your file in the `File name` field.\n",
    "1. Click the **Flash** button"
   ]
  },
  {
   "cell_type": "markdown",
   "metadata": {},
   "source": [
    "When complete, put your sticky note on the top of your monitor.\n",
    "\n",
    "(You may also keep going, if that suits you).\n",
    "\n",
    "<img src='../images/green_sticky.300px.png' width=\"175px\" style=\"float:left\">"
   ]
  },
  {
   "cell_type": "code",
   "execution_count": null,
   "metadata": {},
   "outputs": [],
   "source": []
  },
  {
   "cell_type": "code",
   "execution_count": null,
   "metadata": {},
   "outputs": [],
   "source": []
  }
 ],
 "metadata": {
  "kernelspec": {
   "display_name": "Python 3",
   "language": "python",
   "name": "python3"
  },
  "language_info": {
   "codemirror_mode": {
    "name": "ipython",
    "version": 3
   },
   "file_extension": ".py",
   "mimetype": "text/x-python",
   "name": "python",
   "nbconvert_exporter": "python",
   "pygments_lexer": "ipython3",
   "version": "3.6.3"
  }
 },
 "nbformat": 4,
 "nbformat_minor": 2
}
