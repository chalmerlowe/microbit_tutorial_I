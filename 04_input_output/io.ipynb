{
 "cells": [
  {
   "cell_type": "code",
   "execution_count": null,
   "metadata": {},
   "outputs": [],
   "source": []
  },
  {
   "cell_type": "markdown",
   "metadata": {},
   "source": [
    "# Welcome to the Dark Art of Coding:\n",
    "## Introduction to the micro:bit\n",
    "Basics\n",
    "\n",
    "<img src='../images/dark_art_logo.600px.png' height='250' width='300' style='float:right'>"
   ]
  },
  {
   "cell_type": "markdown",
   "metadata": {},
   "source": [
    "# Objectives\n",
    "---"
   ]
  },
  {
   "cell_type": "markdown",
   "metadata": {},
   "source": [
    "In this lesson we're going to explore how to use input/output via the micro:bit pins. The student will walk away understanding how to:\n",
    "* detect the closure of a circuit connected to one of the pins (this can be used to determine if a switch has been closed OR for several pins, whether the pin is being touched)\n",
    "* deliver electrical outputs to a pin (this can be used in order to cause a motor to turn)"
   ]
  },
  {
   "cell_type": "markdown",
   "metadata": {},
   "source": [
    "# Overview of the pins...\n",
    "---"
   ]
  },
  {
   "cell_type": "markdown",
   "metadata": {},
   "source": [
    "The micro:bit comes with 22 pins\n",
    "\n",
    "**Five** are large/wide, labelled and readily usable for prototyping in various ways.\n",
    "\n",
    "**The remainder** are narrower and unlabelled.\n",
    "\n",
    "Each pin has a specific purpoose.\n",
    "\n",
    "<img src='../images/pinout.png' width='500'>\n",
    "\n",
    "For the above pinout schematic and more detailed description of the pins, see here:\n",
    "\n",
    "http://microbit-micropython.readthedocs.io/en/latest/pin.html\n",
    "\n"
   ]
  },
  {
   "cell_type": "markdown",
   "metadata": {},
   "source": [
    "Several things to note:\n",
    "\n",
    "* There is more than one GND and 3V pins. They are all clustered together.\n",
    "* Some pins are set for analog input, especially pin 0, pin 1 and pin 2.\n",
    "* The wide pins were purposely built to allow:\n",
    "   * the use of alligator clips\n",
    "   * touch\n",
    "   * plugs from electrical probes (i.e. voltmeters)\n"
   ]
  },
  {
   "cell_type": "markdown",
   "metadata": {},
   "source": [
    "# Pulse-Width Modulation\n",
    "---"
   ]
  },
  {
   "cell_type": "markdown",
   "metadata": {},
   "source": [
    "The pins of your board cannot output analog signal by changing (or modulating) the voltage on the pin.\n",
    "\n",
    "Our pins can only be full **3.3V** output OR pulled down to **0V**.\n",
    "\n",
    "None-the-less: it is possible to control the brightness of LEDs or the speed of an electric motor, by switching that voltage on and off very fast, and controlling how long it is on and how long it is off. \n",
    "\n",
    "This technique is called Pulse-Width Modulation (PWM), and that’s what the `pin1.write_analog()` method does."
   ]
  },
  {
   "cell_type": "markdown",
   "metadata": {},
   "source": [
    "## Practical application of PWM\n",
    "---"
   ]
  },
  {
   "cell_type": "markdown",
   "metadata": {},
   "source": [
    "To programmatically use your micro:bit pins, you refer to them by their names:\n",
    "\n",
    "* `pin1`\n",
    "* `pin2`\n",
    "* `pin3`\n",
    "* etc\n",
    "\n",
    "There are multiple methods associated with pins... the first we will look at is `pin1.write_analog()`"
   ]
  },
  {
   "cell_type": "markdown",
   "metadata": {},
   "source": [
    "In the following three images, voltage is modulated the same number of times a second.\n",
    "\n",
    "However, the length of time the voltage is maintained at **3.3V** versus **0V** changes.\n",
    "\n",
    "* For the first image, the voltage is held at 3.3V for half the time and 0V for half the time. This high/low variation results in a voltage that averages half of 3.3V or 1.65V.\n",
    "\n",
    "* For the second image, the voltage is held at 3.3V for only 25% of the time and 0V for the remainder of the time. This high/low variation results in a voltage that averages a quarter of 3.3V or 0.825V.\n",
    "\n",
    "* For the last image, the voltage is held at 3.3V for 75% of the time and 0V for the remainder of the time. This high/low variation results in a voltage that averages 2.475V.\n",
    "\n",
    "<img src='../images/pwm.png' width='500'>\n",
    "\n",
    "|method & argument|percent|voltage|\n",
    "|:-|-|\n",
    "|`pin1.write_analog(511)`|50%|1.65V|\n",
    "|`pin1.write_analog(255)`|25%|0.825V|\n",
    "|`pin1.write_analog(767)`|75%|2.475V|"
   ]
  },
  {
   "cell_type": "markdown",
   "metadata": {},
   "source": [
    "QUESTION: Where do the numbers `511`, `255`, `767` come from?\n",
    "\n",
    "ANSWER: The `pin1.write_analog()` methods apparently take values from 0 to 1023.\n",
    "To determine roughly what value to use as an argument, multiply `1023 times the percentage` and round down:\n",
    "\n",
    "`1023 * .50 = 511.5 >>` **`511`**"
   ]
  },
  {
   "cell_type": "markdown",
   "metadata": {},
   "source": []
  },
  {
   "cell_type": "markdown",
   "metadata": {},
   "source": []
  },
  {
   "cell_type": "markdown",
   "metadata": {},
   "source": [
    "# Circuit closure / touch sensitivity of the pins...\n",
    "---"
   ]
  },
  {
   "cell_type": "code",
   "execution_count": null,
   "metadata": {},
   "outputs": [],
   "source": []
  },
  {
   "cell_type": "markdown",
   "metadata": {},
   "source": [
    "# Actuating the pins, i.e. to run a motor\n",
    "---"
   ]
  },
  {
   "cell_type": "code",
   "execution_count": null,
   "metadata": {},
   "outputs": [],
   "source": []
  },
  {
   "cell_type": "code",
   "execution_count": null,
   "metadata": {},
   "outputs": [],
   "source": []
  },
  {
   "cell_type": "code",
   "execution_count": null,
   "metadata": {},
   "outputs": [],
   "source": []
  }
 ],
 "metadata": {
  "kernelspec": {
   "display_name": "Python 3",
   "language": "python",
   "name": "python3"
  },
  "language_info": {
   "codemirror_mode": {
    "name": "ipython",
    "version": 3
   },
   "file_extension": ".py",
   "mimetype": "text/x-python",
   "name": "python",
   "nbconvert_exporter": "python",
   "pygments_lexer": "ipython3",
   "version": "3.6.3"
  }
 },
 "nbformat": 4,
 "nbformat_minor": 2
}
