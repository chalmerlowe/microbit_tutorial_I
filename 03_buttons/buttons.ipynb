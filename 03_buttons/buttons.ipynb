{
 "cells": [
  {
   "cell_type": "markdown",
   "metadata": {},
   "source": [
    "# Welcome to the Dark Art of Coding:\n",
    "## Introduction to the micro:bit\n",
    "Basics\n",
    "\n",
    "<img src='../images/dark_art_logo.600px.png' height='250' width='300' style='float:right'>"
   ]
  },
  {
   "cell_type": "markdown",
   "metadata": {},
   "source": [
    "# Objectives\n",
    "---"
   ]
  },
  {
   "cell_type": "markdown",
   "metadata": {},
   "source": [
    "In this lesson we're going to explore how to use the two buttons on the front of the micro:bit. The student will walk away understanding how:\n",
    "\n",
    "* to determine if a button has been pressed \n",
    "* to determine how many times a button has been pressed\n",
    "* to determine if a button is currently being pressed\n"
   ]
  },
  {
   "cell_type": "markdown",
   "metadata": {},
   "source": [
    "# Button overview\n",
    "---"
   ]
  },
  {
   "cell_type": "markdown",
   "metadata": {},
   "source": [
    "The micro:bit has two buttons, button A and button B, on the left and right sides of the micro:bit respectively. The buttons are labelled on the front of the micro:bit.\n",
    "\n",
    "Programmatically, either button can be accessed using either **`button_a.some_method()`** OR **`button_b.some_method()`**.\n",
    "\n",
    "NOTE: for simplicity's sake, we will demo the following items using only `button_a`, but all demonstrations should apply equally to `button_a` or `button_b`.\n",
    "\n",
    "For example:\n",
    "\n",
    "```Python\n",
    ">>> from microbit import *\n",
    "\n",
    "# PRESS button a!\n",
    "\n",
    ">>> button_a.was_pressed()\n",
    "True\n",
    "```\n",
    "\n",
    "There are three methods associated with buttons:\n",
    "\n",
    "```Python\n",
    "* was_pressed()\n",
    "* get_presses()\n",
    "* is_pressed()\n",
    "```\n",
    "\n",
    "Let's look at each:"
   ]
  },
  {
   "cell_type": "markdown",
   "metadata": {},
   "source": [
    "# How to determine if a button was pressed\n",
    "---"
   ]
  },
  {
   "cell_type": "markdown",
   "metadata": {},
   "source": [
    "The `button_a.was_pressed()` method will return a `True` or `False` value if the button has been pressed since either:\n",
    "\n",
    "* the micro:bit reset/powered up\n",
    "* the method was last called (when the method is called, it resets the **was_pressed** status of that button.\n",
    "\n",
    "```Python\n",
    ">>> from microbit import *\n",
    "\n",
    "# PRESS button a!\n",
    "\n",
    ">>> button_a.was_pressed()\n",
    "True\n",
    "\n",
    "# DON'T press button_a\n",
    "\n",
    ">>> button_a.was_pressed()\n",
    "False\n",
    "\n",
    "```\n",
    "\n",
    "\n"
   ]
  },
  {
   "cell_type": "markdown",
   "metadata": {},
   "source": [
    "# How to determine how many times a button was pressed\n",
    "---"
   ]
  },
  {
   "cell_type": "markdown",
   "metadata": {},
   "source": [
    "The `button_a.get_presses()` method will return an integer value representing the number of times the button has been pressed since either:\n",
    "\n",
    "* the micro:bit reset/powered up\n",
    "* the method was last called (when the method is called, it resets the **get_presses** status of that button.\n",
    "\n",
    "```Python\n",
    ">>> from microbit import *\n",
    "\n",
    "# PRESS button a! 3 times\n",
    "\n",
    ">>> button_a.get_presses()\n",
    "3\n",
    "\n",
    "# DON'T press button_a\n",
    "\n",
    ">>> button_a.get_presses()\n",
    "0\n",
    "```"
   ]
  },
  {
   "cell_type": "markdown",
   "metadata": {},
   "source": [
    "# How to determine if a button is currently being pressed\n",
    "---"
   ]
  },
  {
   "cell_type": "markdown",
   "metadata": {},
   "source": [
    "The `button_a.is_pressed()` method will return a `True` or `False` value if button_a is currently being held down OR not.\n",
    "\n",
    "```Python\n",
    ">>> from microbit import *\n",
    "\n",
    "# PRESS and hold button_a\n",
    "\n",
    ">>> button_a.is_pressed()\n",
    "True\n",
    "\n",
    "# RELEASE button_a\n",
    "\n",
    ">>> button_a.is_pressed()\n",
    "False\n",
    "```"
   ]
  },
  {
   "cell_type": "code",
   "execution_count": null,
   "metadata": {},
   "outputs": [],
   "source": []
  },
  {
   "cell_type": "markdown",
   "metadata": {},
   "source": [
    "# Experience points\n",
    "---"
   ]
  },
  {
   "cell_type": "markdown",
   "metadata": {},
   "source": [
    "1. Click the **New** button to create a new script\n",
    "1. Add code to accomplish the following:\n",
    "1. Display the letter 'A'\n",
    "1. Make the micro:bit sleep for 5 or 10 seconds (i.e. long enough to provide the player a chance to press button_a multiple times) \n",
    "1. Detect how many times button_a has been pressed\n",
    "1. Scroll across the LED, five times, the total count of button presses\n",
    "1. Click the **Save** button\n",
    "1. Use `mybuttons.py` as the name of your file in the `File name` field.\n",
    "1. Click the **Flash** button"
   ]
  },
  {
   "cell_type": "markdown",
   "metadata": {},
   "source": [
    "When complete, put your sticky note on the top of your monitor.\n",
    "\n",
    "(You may also keep going, if that suits you).\n",
    "\n",
    "<img src='../images/green_sticky.300px.png' width=\"175px\" style=\"float:left\">"
   ]
  },
  {
   "cell_type": "code",
   "execution_count": null,
   "metadata": {},
   "outputs": [],
   "source": []
  }
 ],
 "metadata": {
  "kernelspec": {
   "display_name": "Python 3",
   "language": "python",
   "name": "python3"
  },
  "language_info": {
   "codemirror_mode": {
    "name": "ipython",
    "version": 3
   },
   "file_extension": ".py",
   "mimetype": "text/x-python",
   "name": "python",
   "nbconvert_exporter": "python",
   "pygments_lexer": "ipython3",
   "version": "3.6.3"
  }
 },
 "nbformat": 4,
 "nbformat_minor": 2
}
