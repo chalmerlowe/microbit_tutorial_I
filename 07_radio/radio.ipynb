{
 "cells": [
  {
   "cell_type": "code",
   "execution_count": null,
   "metadata": {},
   "outputs": [],
   "source": []
  },
  {
   "cell_type": "markdown",
   "metadata": {},
   "source": [
    "# Welcome to the Dark Art of Coding:\n",
    "## Introduction to the micro:bit\n",
    "Basics\n",
    "\n",
    "<img src='../images/dark_art_logo.600px.png' height='250' width='300' style='float:right'>"
   ]
  },
  {
   "cell_type": "markdown",
   "metadata": {},
   "source": [
    "# Objectives\n",
    "---"
   ]
  },
  {
   "cell_type": "markdown",
   "metadata": {},
   "source": [
    "NOTE: For this section, you will need a partner (OR at least another micro:bit!)."
   ]
  },
  {
   "cell_type": "markdown",
   "metadata": {},
   "source": [
    "In this lesson we're going to explore how to use the micro:bit radio. The student will walk away understanding how to:\n",
    "\n",
    "* send messages with the radio\n",
    "* receive messages with the radio"
   ]
  },
  {
   "cell_type": "code",
   "execution_count": null,
   "metadata": {},
   "outputs": [],
   "source": []
  },
  {
   "cell_type": "markdown",
   "metadata": {},
   "source": [
    "## To build a radio...\n",
    "\n",
    "```Python\n",
    "from microbit import *\n",
    "\n",
    "import radio\n",
    "\n",
    "radio.on()\n",
    "radio.config(channel=yourChannelHere)    # radio.config(channel=99)\n",
    "display.show('R')\n",
    "```"
   ]
  },
  {
   "cell_type": "markdown",
   "metadata": {},
   "source": [
    "## To send a signal \n",
    "\n",
    "```Python\n",
    "while True:\n",
    "    if button_a.was_pressed():\n",
    "        radio.send('hello')\n",
    "        display.show('S')\n",
    "        \n",
    "```        "
   ]
  },
  {
   "cell_type": "markdown",
   "metadata": {},
   "source": [
    "## To recieve a signal        \n",
    "\n",
    "```Python\n",
    "\n",
    "    inbound_msg = radio.receive()\n",
    "    if inbound_msg == 'hello':\n",
    "\n",
    "    display.show('X')\n",
    "```    "
   ]
  },
  {
   "cell_type": "markdown",
   "metadata": {},
   "source": [
    "# Big picture (the above script in one fell swoop)\n",
    "\n",
    "```Python\n",
    "lay.scroll\n",
    "from microbit import *\n",
    "\n",
    "import radio\n",
    "\n",
    "radio.on()\n",
    "radio.config(channel=yourChannelHere)\n",
    "display.show('R')\n",
    "\n",
    "while True:\n",
    "    if button_a.was_pressed():\n",
    "        radio.send('hello')\n",
    "        display.show('S')\n",
    "        \n",
    "    inbound_msg = radio.receive()\n",
    "    if inbound_msg == 'hello':\n",
    "        display.show('X')\n",
    "```"
   ]
  },
  {
   "cell_type": "code",
   "execution_count": null,
   "metadata": {},
   "outputs": [],
   "source": []
  }
 ],
 "metadata": {
  "kernelspec": {
   "display_name": "Python 3",
   "language": "python",
   "name": "python3"
  },
  "language_info": {
   "codemirror_mode": {
    "name": "ipython",
    "version": 3
   },
   "file_extension": ".py",
   "mimetype": "text/x-python",
   "name": "python",
   "nbconvert_exporter": "python",
   "pygments_lexer": "ipython3",
   "version": "3.6.3"
  }
 },
 "nbformat": 4,
 "nbformat_minor": 2
}
