{
 "cells": [
  {
   "cell_type": "markdown",
   "metadata": {},
   "source": [
    "# Welcome to the Dark Art of Coding:\n",
    "## Introduction to the micro:bit\n",
    "Installation\n",
    "\n",
    "<img src='../images/dark_art_logo.600px.png' height='250' width='300' style='float:right'>"
   ]
  },
  {
   "cell_type": "markdown",
   "metadata": {},
   "source": [
    "# Installation\n",
    "---"
   ]
  },
  {
   "cell_type": "markdown",
   "metadata": {},
   "source": [
    "There are several ways to interact with your micro:bit. One method is to use an editor called `mu`. That is the method we will focus on in this tutorial. \n",
    "\n",
    "For Windows computers you will need an extra bit of software to make mu fully functional but it's well worth it. Scroll down until you find your operating system and follow the steps given.\n",
    "\n",
    "If you have any problems feel free to ask for help.\n"
   ]
  },
  {
   "cell_type": "markdown",
   "metadata": {},
   "source": [
    "## Windows:\n",
    "\n",
    "* Go to this link:\n",
    "    * http://ardublockly-builds.s3-website-us-west-2.amazonaws.com/?prefix=microbit/windows/\n",
    "* Download the file from the link at the BOTTOM of the list\n",
    "* Save the file in a place that you can get to easily from now on\n",
    "\n",
    "Once you have the mu editor downloaded, you're going to need another piece of software to make it work completely\n",
    "\n",
    "* Download the file from this link\n",
    "    * https://developer.mbed.org/media/downloads/drivers/mbedWinSerial_16466.exe\n",
    "* Once downloaded make sure to connect your micro:bit to your computer using a USB cord and run the file.\n",
    "\n",
    "It shouldn't take too long and once it's finished you should be good to go"
   ]
  },
  {
   "cell_type": "markdown",
   "metadata": {},
   "source": [
    "## Mac:\n",
    "\n",
    "* Go to this link:\n",
    "* http://ardublockly-builds.s3-website-us-west-2.amazonaws.com/?prefix=microbit/osx/\n",
    "* Download the file from the link at the BOTTOM of the list\n",
    "* Save the file in a place that you can get to easily from now on\n",
    "\n",
    "You now have mu. In order to use it just run the file you've downloaded. Simple as that"
   ]
  },
  {
   "cell_type": "markdown",
   "metadata": {},
   "source": [
    "# How to use mu\n",
    "---"
   ]
  },
  {
   "cell_type": "markdown",
   "metadata": {},
   "source": [
    "When you first open mu it should look like this:\n",
    "\n",
    "<img src=\"../images/mu_empty.png\" width='640'>"
   ]
  },
  {
   "cell_type": "markdown",
   "metadata": {},
   "source": [
    "At the top there are 12 buttons. We're going to talk about 5 of them\n",
    "\n",
    "### New\n",
    "\n",
    "This button opens a new, empty file\n",
    "\n",
    "### Load\n",
    "\n",
    "This button lets you open a file that you've already created and have saved on your computer's disk\n",
    "\n",
    "### Save\n",
    "\n",
    "This button saves your file and if your file doesn't have a name, the save dialogue allows you to name your file. We recommend that you save your work often, so you don't lose your progress if something goes wrong.\n",
    "\n",
    "### Flash\n",
    "\n",
    "This button causes mu to compile your code and put it on (or flash it) to your micro:bit so that it will run immediately whenever you turn on your micro:bit\n",
    "\n",
    "### Repl\n",
    "\n",
    "One of the most helpful buttons on the list: this button opens up a window on the bottom of the editor that gives you direct access to run commands directly on the micro:bit. This is GREAT for experimenting and learning what the commands do. You run the commands on what is called a Python interpreter. The Python interpreter is an example of a REPL.\n",
    "\n",
    "```\n",
    "R - read a command\n",
    "E - evaluate the command\n",
    "P - print the results\n",
    "L - loop through the above process again\n",
    "```\n",
    "\n",
    "What this means is you will type in a command onto a line on the REPL, and the connected micro:bit will read in your command, find out if it evaluates to anything, and if it DOES then it will show you the result. Once finished it goes back and repeats the process.\n",
    "\n",
    "This is a very helpful mode that lets you test new commands so you can get the details right, before adding that commend to your script."
   ]
  },
  {
   "cell_type": "code",
   "execution_count": null,
   "metadata": {},
   "outputs": [],
   "source": []
  },
  {
   "cell_type": "markdown",
   "metadata": {},
   "source": [
    "# Let's test it\n",
    "---"
   ]
  },
  {
   "cell_type": "markdown",
   "metadata": {},
   "source": [
    "Right off the bat let's make sure it's working. Follow these steps to make sure your mu is working correctly\n",
    "\n",
    "\n",
    "* Ensure that your micro:bit is attached to your computer via USB cable.\n",
    "* Ensure that mu is displayed on your screen.\n",
    "* Click on the Repl button\n",
    "* Ensure that you see something that looks like this with chevrons (`>>>`)... at the bottom of the screen\n",
    "<img src=\"../images/repl.png\" width='640'>\n",
    "\n",
    "* Type in the following (including the asterisk!) and press **Enter** (this imports some software/code that lets us use some of the micro:bit functionality)\n",
    "    * `from microbit import *`\n",
    "    \n",
    "<img src=\"../images/import_star.png\" width='640'>    \n",
    "* Type the following on the next line. Once you hit **Enter**, watch your micro:bit and see what happens. If everything is working correctly, the word **Python** should scroll across the screen.\n",
    "    * `display.scroll('Python')`\n",
    "<img src=\"../images/display_scroll.png\" width='640'>    \n",
    "    \n",
    "    \n"
   ]
  },
  {
   "cell_type": "code",
   "execution_count": null,
   "metadata": {},
   "outputs": [],
   "source": []
  }
 ],
 "metadata": {
  "kernelspec": {
   "display_name": "Python 3",
   "language": "python",
   "name": "python3"
  },
  "language_info": {
   "codemirror_mode": {
    "name": "ipython",
    "version": 3
   },
   "file_extension": ".py",
   "mimetype": "text/x-python",
   "name": "python",
   "nbconvert_exporter": "python",
   "pygments_lexer": "ipython3",
   "version": "3.6.3"
  }
 },
 "nbformat": 4,
 "nbformat_minor": 2
}
