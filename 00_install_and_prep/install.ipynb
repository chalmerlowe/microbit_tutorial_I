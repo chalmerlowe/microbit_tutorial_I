{
 "cells": [
  {
   "cell_type": "markdown",
   "metadata": {},
   "source": [
    "# Welcome to the Dark Art of Coding:\n",
    "## Introduction to the micro:bit\n",
    "Installation\n",
    "\n",
    "<img src='../images/dark_art_logo.600px.png' height='250' width='300' style=\\\"float:right\\\">"
   ]
  },
  {
   "cell_type": "markdown",
   "metadata": {
    "collapsed": true
   },
   "source": [
    "# Installation\n",
    "---"
   ]
  },
  {
   "cell_type": "markdown",
   "metadata": {},
   "source": [
    "We need a single piece of software to program our Micro:Bits. It's called 'mu'\n",
    "\n",
    "For windows machines you need an extra bit to make mu fully functional but it's well worth it. Scroll down until you find your OS and follow the steps\n",
    "\n",
    "If you have any problems feel free to ask me for help"
   ]
  },
  {
   "cell_type": "markdown",
   "metadata": {},
   "source": [
    "## Windows:\n",
    "\n",
    "* Go to this link:\n",
    "    * http://ardublockly-builds.s3-website-us-west-2.amazonaws.com/?prefix=microbit/windows/\n",
    "* Download the file from the link at the BOTTOM of the list\n",
    "* Save the file in a place that you can get to easily from now on\n",
    "\n",
    "You now have mu. In order to use it you just run the file you've downloaded. Simple as that\n",
    "\n",
    "## Windows 2:\n",
    "\n",
    "Once you have mu downloaded  you're going to need that extra bit to make it work completely\n",
    "\n",
    "* Download the file from this link\n",
    "    * https://developer.mbed.org/media/downloads/drivers/mbedWinSerial_16466.exe\n",
    "* Once downloaded make sure to plug in your Micro:Bit and run the file.\n",
    "\n",
    "It shouldn't take too long and once it's finished you should be good to go"
   ]
  },
  {
   "cell_type": "markdown",
   "metadata": {},
   "source": [
    "## Mac\n",
    "\n",
    "* Go to this link:\n",
    "* http://ardublockly-builds.s3-website-us-west-2.amazonaws.com/?prefix=microbit/osx/\n",
    "* Download the file from the link at the BOTTOM of the list\n",
    "* Save the file in a place that you can get to easily from now on\n",
    "\n",
    "You now have mu. In order to use it just run the file you've downloaded. Simple as that"
   ]
  },
  {
   "cell_type": "markdown",
   "metadata": {},
   "source": [
    "# How to use mu\n",
    "---"
   ]
  },
  {
   "cell_type": "markdown",
   "metadata": {},
   "source": [
    "When you first open mu it should look like this:\n",
    "\n",
    "<img src=\"mu_empty.png\">"
   ]
  },
  {
   "cell_type": "markdown",
   "metadata": {},
   "source": [
    "At the top there are 12 buttons. We're going to talk about 5 of them\n",
    "\n",
    "### New\n",
    "\n",
    "This button opens a new file\n",
    "\n",
    "### Load\n",
    "\n",
    "This button lets you open a file that you've already made and saved\n",
    "\n",
    "### Save\n",
    "\n",
    "This button saves your file and if it doesn't have a name yet let's you name your file. You should be saving often so you don't lose your progress\n",
    "\n",
    "### Flash\n",
    "\n",
    "This button will take whatever code you have on your screen and put it onto your Micro:Bit so that it will run when you turn on your Micro:Bit\n",
    "\n",
    "### Repl\n",
    "\n",
    "One of the most helpful buttons on the list this button opens up a window on the bottom that has a repl in it. Repl stands for:\n",
    "\n",
    "R - read<br>\n",
    "E - evaluate<br>\n",
    "P - print<br>\n",
    "L - loop\n",
    "\n",
    "What this means is you will type in one command or two onto a line on the repl, and the connected Micro:Bit will read in your command, find out if it evaluates to anything, and if it DOES then it will show you what it was. Once finished it goes back and does the process all over again\n",
    "\n",
    "This is a very helpful mode that lets you test things out and try a command or two before putting it in your file"
   ]
  },
  {
   "cell_type": "code",
   "execution_count": null,
   "metadata": {},
   "outputs": [],
   "source": []
  },
  {
   "cell_type": "markdown",
   "metadata": {},
   "source": [
    "# Let's test it\n",
    "---"
   ]
  },
  {
   "cell_type": "markdown",
   "metadata": {},
   "source": [
    "Right off the bat let's make sure it's working. Follow these steps to make sure your mu is working correctly\n",
    "\n",
    "* Click on the repl button\n",
    "* Type in the following and press enter (this lets us use some of the Micro:Bit functionality)\n",
    "    * `from microbit import *`\n",
    "    \n",
    "    \n",
    "* Then do the same thing to the next line except replace YOUR NAME with your name. Once you hit enter watch your Micro:Bit and see what happens\n",
    "    * `display.scroll('YOUR NAME')`\n",
    "    \n",
    "    \n",
    "* For example:\n",
    "    * `display.scroll('Python')`"
   ]
  }
 ],
 "metadata": {
  "kernelspec": {
   "display_name": "Python 3",
   "language": "python",
   "name": "python3"
  },
  "language_info": {
   "codemirror_mode": {
    "name": "ipython",
    "version": 3
   },
   "file_extension": ".py",
   "mimetype": "text/x-python",
   "name": "python",
   "nbconvert_exporter": "python",
   "pygments_lexer": "ipython3",
   "version": "3.6.3"
  }
 },
 "nbformat": 4,
 "nbformat_minor": 2
}
