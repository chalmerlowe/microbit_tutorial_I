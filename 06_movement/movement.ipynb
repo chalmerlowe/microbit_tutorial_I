{
 "cells": [
  {
   "cell_type": "code",
   "execution_count": null,
   "metadata": {},
   "outputs": [],
   "source": []
  },
  {
   "cell_type": "markdown",
   "metadata": {},
   "source": [
    "# Welcome to the Dark Art of Coding:\n",
    "## Introduction to the micro:bit\n",
    "Basics\n",
    "\n",
    "<img src='../images/dark_art_logo.600px.png' height='250' width='300' style='float:right'>"
   ]
  },
  {
   "cell_type": "markdown",
   "metadata": {},
   "source": [
    "# Objectives\n",
    "---"
   ]
  },
  {
   "cell_type": "markdown",
   "metadata": {},
   "source": [
    "In this lesson we're going to explore how to use two micro:bit tools for evaluating/detecting movement. The student will walk away understanding how to:\n",
    "\n",
    "* use the builtin compass to detect orientation within a magnetic field\n",
    "* use the accelerometer to detect motion and orientation        \n",
    "        "
   ]
  },
  {
   "cell_type": "markdown",
   "metadata": {},
   "source": [
    "# Compass\n",
    "---"
   ]
  },
  {
   "cell_type": "markdown",
   "metadata": {},
   "source": [
    "## Warning, your mileage may vary..."
   ]
  },
  {
   "cell_type": "markdown",
   "metadata": {},
   "source": [
    "Whenever you start using the compass, you are required to calibrate the compass.\n",
    "\n",
    "If you forget to calibrate the compass, when you ask the micro:bit for the **heading** OR direction that the compass is facing, then the micro:bit will automagically call the calibration function for you.\n"
   ]
  },
  {
   "cell_type": "markdown",
   "metadata": {},
   "source": [
    "## Calibration"
   ]
  },
  {
   "cell_type": "markdown",
   "metadata": {},
   "source": [
    "To calibrate the compass, use:\n",
    "\n",
    "```Python\n",
    "compass.calibrate()\n",
    "```\n",
    "\n",
    "The micro:bit will then ask you to \"Draw a circle\" on the screen.\n",
    "\n",
    "You do this by tilting the micro:bit. As you tilt the micro:bit, a lit LED will shift across the display. Tilt the display enough, so that the light will reach the outside edge of the display. Then turn and wobble the micro:bit so that the lit LED drifts around to each outer edge of the display. As the light touches the outer array of LEDs, a circle of lit LEDs will remain. Once the entire circle is illuminated, the micro:bit will display a `smiley face` briefly to let you know that your compass has been calibrated."
   ]
  },
  {
   "cell_type": "markdown",
   "metadata": {},
   "source": [
    "WARNING: if you run the `.calibrate()` method and fail to actually calibrate your micro:bit, then it will be stuck and your script won't progress until you finish.\n"
   ]
  },
  {
   "cell_type": "markdown",
   "metadata": {},
   "source": [
    "## Detecting compass heading"
   ]
  },
  {
   "cell_type": "markdown",
   "metadata": {},
   "source": [
    "Let's play with the compass headings.\n",
    "\n",
    "Create a script with the following:\n",
    "\n",
    "```Python\n",
    "from microbit import *\n",
    "\n",
    "compass.calibrate()\n",
    "\n",
    "display.scroll('rotate me')\n",
    "\n",
    "while True:\n",
    "    d = compass.heading()\n",
    "    print(d)\n",
    "    if d > 250:\n",
    "        break\n",
    "```        \n",
    "\n",
    "\n"
   ]
  },
  {
   "cell_type": "markdown",
   "metadata": {},
   "source": [
    "For some more details and a video of compass calibration:\n",
    "    \n",
    "https://support.microbit.org/support/solutions/articles/19000008874-calibrating-the-micro-bit-compass-what-does-it-mean-when-the-micro-bit-says-draw-a-circle-or-tilt \n",
    "    "
   ]
  },
  {
   "cell_type": "code",
   "execution_count": null,
   "metadata": {},
   "outputs": [],
   "source": []
  },
  {
   "cell_type": "markdown",
   "metadata": {},
   "source": [
    "# Accelerometer:\n",
    "---"
   ]
  },
  {
   "cell_type": "markdown",
   "metadata": {},
   "source": [
    "## Warning, your mileage may vary..."
   ]
  },
  {
   "cell_type": "markdown",
   "metadata": {},
   "source": [
    "This object gives you access to the on-board accelerometer. The accelerometer also provides convenience functions for detecting gestures. The recognised gestures are: \n",
    "\n",
    "`up, down, left, right, face up, face down, freefall, 3g, 6g, 8g, shake`"
   ]
  },
  {
   "cell_type": "markdown",
   "metadata": {},
   "source": [
    "Let's play with the accelerometer readings."
   ]
  },
  {
   "cell_type": "markdown",
   "metadata": {},
   "source": [
    "Create a script with the following:\n",
    "    \n",
    "```Python    \n",
    "from microbit import *\n",
    "\n",
    "while True:\n",
    "    print(accelerometer.get_x(),\n",
    "          accelerometer.get_y(),\n",
    "          accelerometer.get_z(),\n",
    "         ) \n",
    "\n",
    "    if accelerometer.is_gesture('face down'):\n",
    "        print('take it easy\\n')\n",
    "        break\n",
    "```"
   ]
  },
  {
   "cell_type": "markdown",
   "metadata": {},
   "source": [
    "## Additional methods:\n",
    "\n",
    "One nice feature of the microbit, is that there has been some focus on a consistent user interface:\n",
    "\n",
    "Much like the button with these methods:\n",
    "\n",
    "* `.is_pressed()`\n",
    "* `.was_pressed()`\n",
    "* `.get_presses()`\n",
    "\n",
    "The accelerometer has similar methods with similar names and behaviors:\n",
    "\n",
    "* `.is_gesture()`\n",
    "* `.was_gesture()`\n",
    "* `.get_gestures()`\n",
    "\n"
   ]
  },
  {
   "cell_type": "markdown",
   "metadata": {},
   "source": []
  },
  {
   "cell_type": "code",
   "execution_count": null,
   "metadata": {},
   "outputs": [],
   "source": []
  }
 ],
 "metadata": {
  "kernelspec": {
   "display_name": "Python 3",
   "language": "python",
   "name": "python3"
  },
  "language_info": {
   "codemirror_mode": {
    "name": "ipython",
    "version": 3
   },
   "file_extension": ".py",
   "mimetype": "text/x-python",
   "name": "python",
   "nbconvert_exporter": "python",
   "pygments_lexer": "ipython3",
   "version": "3.6.3"
  }
 },
 "nbformat": 4,
 "nbformat_minor": 2
}
